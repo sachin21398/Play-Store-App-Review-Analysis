{
  "nbformat": 4,
  "nbformat_minor": 0,
  "metadata": {
    "colab": {
      "private_outputs": true,
      "provenance": [],
      "collapsed_sections": [
        "beRrZCGUAJYm",
        "FJNUwmbgGyua",
        "w6K7xa23Elo4",
        "yQaldy8SH6Dl",
        "mDgbUHAGgjLW",
        "O_i_v8NEhb9l",
        "Y3lxredqlCYt",
        "3RnN4peoiCZX",
        "x71ZqKXriCWQ",
        "nA9Y7ga8ng1Z",
        "KSlN3yHqYklG",
        "x-EpHcCOp1ci",
        "gCX9965dhzqZ",
        "gIfDvo9L0UH2"
      ],
      "include_colab_link": true
    },
    "kernelspec": {
      "name": "python3",
      "display_name": "Python 3"
    },
    "language_info": {
      "name": "python"
    },
    "gpuClass": "standard"
  },
  "cells": [
    {
      "cell_type": "markdown",
      "metadata": {
        "id": "view-in-github",
        "colab_type": "text"
      },
      "source": [
        "<a href=\"https://colab.research.google.com/github/sachin21398/Play-Store-App-Review-Analysis/blob/main/Play_Store_App_Review_Analysis_Capstone_Project_.ipynb\" target=\"_parent\"><img src=\"https://colab.research.google.com/assets/colab-badge.svg\" alt=\"Open In Colab\"/></a>"
      ]
    },
    {
      "cell_type": "markdown",
      "source": [
        "# **Project Name**    -  Play Store App Review Analysis\n",
        "\n"
      ],
      "metadata": {
        "id": "vncDsAP0Gaoa"
      }
    },
    {
      "cell_type": "markdown",
      "source": [
        "##### **Project Type**    - EDA\n",
        "##### **Contribution**    - Individual"
      ],
      "metadata": {
        "id": "beRrZCGUAJYm"
      }
    },
    {
      "cell_type": "markdown",
      "source": [
        "# **Project Summary -**"
      ],
      "metadata": {
        "id": "FJNUwmbgGyua"
      }
    },
    {
      "cell_type": "markdown",
      "source": [
        "In this project, I have analyze Google Play Store data.This study is my first data analyzing study in Python.\n",
        "\n",
        "\n",
        "\n",
        "Let's take a look at the data, which consists of two files:\n",
        "\n",
        "**playstore data.csv:** contains all the details of the applications on Google Play. There are 13 features that describe a given app.\n",
        "**user_reviews.csv:** contains 100 reviews for each app, most helpful first. The text in each review has been pre-processed and attributed with three new features: Sentiment (Positive, Negative or Neutral), Sentiment Polarity and Sentiment Subjectivity.\n"
      ],
      "metadata": {
        "id": "F6v_1wHtG2nS"
      }
    },
    {
      "cell_type": "markdown",
      "source": [
        "# **GitHub Link -**"
      ],
      "metadata": {
        "id": "w6K7xa23Elo4"
      }
    },
    {
      "cell_type": "markdown",
      "source": [
        "Provide your GitHub Link here."
      ],
      "metadata": {
        "id": "h1o69JH3Eqqn"
      }
    },
    {
      "cell_type": "markdown",
      "source": [
        "# **Problem Statement**\n"
      ],
      "metadata": {
        "id": "yQaldy8SH6Dl"
      }
    },
    {
      "cell_type": "markdown",
      "source": [
        "1. What are the top categories on Play Store?\n",
        "2. What is the ratio of number of Paid or Free?\n",
        "3. How importance is the rating of the application?\n",
        "4. Which categories from the audience should the app be based on?\n",
        "5. Which category has the most no. of installations?\n",
        "6. How does the last update has an effect on the rating?\n",
        "7. How are ratings affected when the app is a paid one?\n",
        "8. How are reviews and ratings co-related?\n",
        "9. Distribution of apps based on its size\n",
        "10. Lets us discuss the sentiment subjectivity.\n",
        "10. Is subjectivity and polarity proportional to each other?\n",
        "11. What is the percentage of review sentiments?\n",
        "12. How is sentiment polarity varying for paid and free apps?\n"
      ],
      "metadata": {
        "id": "DpeJGUA3kjGy"
      }
    },
    {
      "cell_type": "markdown",
      "source": [
        "#### **Define Your Business Objective?**"
      ],
      "metadata": {
        "id": "PH-0ReGfmX4f"
      }
    },
    {
      "cell_type": "markdown",
      "source": [
        "The objective of this is to analyze the desire of the user through the reviews provided in the feedback section and apps trend in the market to help the organization & developers."
      ],
      "metadata": {
        "id": "PhDvGCAqmjP1"
      }
    },
    {
      "cell_type": "markdown",
      "source": [
        "# **General Guidelines** : -  "
      ],
      "metadata": {
        "id": "mDgbUHAGgjLW"
      }
    },
    {
      "cell_type": "markdown",
      "source": [
        "1.   Well-structured, formatted, and commented code is required. \n",
        "2.   Exception Handling, Production Grade Code & Deployment Ready Code will be a plus. Those students will be awarded some additional credits. \n",
        "     \n",
        "     The additional credits will have advantages over other students during Star Student selection.\n",
        "       \n",
        "             [ Note: - Deployment Ready Code is defined as, the whole .ipynb notebook should be executable in one go\n",
        "                       without a single error logged. ]\n",
        "\n",
        "3.   Each and every logic should have proper comments.\n",
        "4. You may add as many number of charts you want. Make Sure for each and every chart the following format should be answered.\n",
        "        \n",
        "\n",
        "```\n",
        "# Chart visualization code\n",
        "```\n",
        "            \n",
        "\n",
        "*   Why did you pick the specific chart?\n",
        "*   What is/are the insight(s) found from the chart?\n",
        "* Will the gained insights help creating a positive business impact? \n",
        "Are there any insights that lead to negative growth? Justify with specific reason.\n",
        "\n",
        "5. You have to create at least 20 logical & meaningful charts having important insights.\n",
        "\n",
        "\n",
        "[ Hints : - Do the Vizualization in  a structured way while following \"UBM\" Rule. \n",
        "\n",
        "U - Univariate Analysis,\n",
        "\n",
        "B - Bivariate Analysis (Numerical - Categorical, Numerical - Numerical, Categorical - Categorical)\n",
        "\n",
        "M - Multivariate Analysis\n",
        " ]\n",
        "\n",
        "\n",
        "\n"
      ],
      "metadata": {
        "id": "ZrxVaUj-hHfC"
      }
    },
    {
      "cell_type": "markdown",
      "source": [
        "# ***Let's Begin !***"
      ],
      "metadata": {
        "id": "O_i_v8NEhb9l"
      }
    },
    {
      "cell_type": "markdown",
      "source": [
        "## ***1. Know Your Data***"
      ],
      "metadata": {
        "id": "HhfV-JJviCcP"
      }
    },
    {
      "cell_type": "markdown",
      "source": [
        "### Import Libraries"
      ],
      "metadata": {
        "id": "Y3lxredqlCYt"
      }
    },
    {
      "cell_type": "code",
      "source": [
        "# Import Libraries\n",
        "import pandas as pd\n",
        "import numpy as np\n",
        "import matplotlib.pyplot as plt\n",
        "import seaborn as sns  # visualization tool\n",
        "from datetime import datetime\n",
        "# plotly\n",
        "import plotly \n",
        "plotly.offline.init_notebook_mode(connected=True)\n",
        "import plotly.graph_objs as go\n",
        "import warnings\n",
        "#sns.set(font_scale=1.5)\n",
        "warnings.filterwarnings(\"ignore\")\n"
      ],
      "metadata": {
        "id": "M8Vqi-pPk-HR"
      },
      "execution_count": null,
      "outputs": []
    },
    {
      "cell_type": "markdown",
      "source": [
        "### Dataset Loading"
      ],
      "metadata": {
        "id": "3RnN4peoiCZX"
      }
    },
    {
      "cell_type": "code",
      "source": [
        "from google.colab import drive\n",
        "drive.mount('/content/drive')"
      ],
      "metadata": {
        "id": "JvEqYlmyRUAv"
      },
      "execution_count": null,
      "outputs": []
    },
    {
      "cell_type": "code",
      "source": [
        "# Load Dataset\n",
        "ps_file_path = '/content/drive/MyDrive/Colab Notebooks/Play Store Data.csv'\n",
        "ur_data_file_path =  '/content/drive/MyDrive/Colab Notebooks/User Reviews.csv'\n",
        "ps_df = pd.read_csv(ps_file_path)\n",
        "ur_df = pd.read_csv(ur_data_file_path)"
      ],
      "metadata": {
        "id": "4CkvbW_SlZ_R"
      },
      "execution_count": null,
      "outputs": []
    },
    {
      "cell_type": "markdown",
      "source": [
        "### Dataset First View"
      ],
      "metadata": {
        "id": "x71ZqKXriCWQ"
      }
    },
    {
      "cell_type": "code",
      "source": [
        "# Dataset First Look\n",
        "ps_data = pd.concat([ps_df.head(),ps_df.tail()])\n",
        "ps_data"
      ],
      "metadata": {
        "id": "LWNFOSvLl09H"
      },
      "execution_count": null,
      "outputs": []
    },
    {
      "cell_type": "code",
      "source": [
        "ps_df.describe()"
      ],
      "metadata": {
        "id": "e221IrtFXlkl"
      },
      "execution_count": null,
      "outputs": []
    },
    {
      "cell_type": "markdown",
      "source": [
        "### Dataset Rows & Columns count"
      ],
      "metadata": {
        "id": "7hBIi_osiCS2"
      }
    },
    {
      "cell_type": "code",
      "source": [
        "# Dataset Rows & Columns count\n",
        "print(ps_df.columns)\n",
        "rows=ps_df.shape[0]\n",
        "columns=ps_df.shape[1]\n",
        "print(f\"the no of rows is {rows} and no of columns is {columns}\")"
      ],
      "metadata": {
        "id": "Kllu7SJgmLij"
      },
      "execution_count": null,
      "outputs": []
    },
    {
      "cell_type": "markdown",
      "source": [
        "### Dataset Information"
      ],
      "metadata": {
        "id": "JlHwYmJAmNHm"
      }
    },
    {
      "cell_type": "code",
      "source": [
        "# Dataset Info\n",
        "ps_df.info()"
      ],
      "metadata": {
        "id": "e9hRXRi6meOf"
      },
      "execution_count": null,
      "outputs": []
    },
    {
      "cell_type": "markdown",
      "source": [
        "#### Duplicate Values"
      ],
      "metadata": {
        "id": "35m5QtbWiB9F"
      }
    },
    {
      "cell_type": "code",
      "source": [
        "# Dataset Duplicate Value Count\n",
        "ps_df['App'].value_counts()"
      ],
      "metadata": {
        "id": "1sLdpKYkmox0"
      },
      "execution_count": null,
      "outputs": []
    },
    {
      "cell_type": "markdown",
      "source": [
        "#### Missing Values/Null Values"
      ],
      "metadata": {
        "id": "PoPl-ycgm1ru"
      }
    },
    {
      "cell_type": "code",
      "source": [
        "# Missing Values/Null Values Count\n",
        "def playstoreinfo():\n",
        "  temp=pd.DataFrame(index=ps_df.columns)\n",
        "  temp[\"datatype\"]=ps_df.dtypes\n",
        "  temp[\"not null values\"]=ps_df.count()\n",
        "  temp[\"null value\"]=ps_df.isnull().sum()\n",
        "  temp[\"% of the null value\"]=ps_df.isnull().mean()\n",
        "  temp[\"unique count\"]=ps_df.nunique()\n",
        "  return temp\n",
        "playstoreinfo()"
      ],
      "metadata": {
        "id": "GgHWkxvamxVg"
      },
      "execution_count": null,
      "outputs": []
    },
    {
      "cell_type": "code",
      "source": [
        "# Visualizing the missing values\n",
        "ps_df[ps_df['Rating'].isnull()]"
      ],
      "metadata": {
        "id": "3q5wnI3om9sJ"
      },
      "execution_count": null,
      "outputs": []
    },
    {
      "cell_type": "markdown",
      "source": [
        "**Rating: This column contains 1470 NaN values.**"
      ],
      "metadata": {
        "id": "FexE-SJweJKw"
      }
    },
    {
      "cell_type": "code",
      "source": [
        "ps_df[ps_df['Type'].isnull()]"
      ],
      "metadata": {
        "id": "5nZM2H2OfSrr"
      },
      "execution_count": null,
      "outputs": []
    },
    {
      "cell_type": "markdown",
      "source": [
        "**Type: This column contains 1 NaN values.**"
      ],
      "metadata": {
        "id": "tSkHz-rmfgV8"
      }
    },
    {
      "cell_type": "code",
      "source": [
        "ps_df[ps_df['Content Rating'].isnull()]"
      ],
      "metadata": {
        "id": "eAzIx8RsfwFp"
      },
      "execution_count": null,
      "outputs": []
    },
    {
      "cell_type": "markdown",
      "source": [
        "**Content Rating: This column contains 1 NaN values.**"
      ],
      "metadata": {
        "id": "95eQFeBEf4Sa"
      }
    },
    {
      "cell_type": "code",
      "source": [
        "ps_df[ps_df['Current Ver'].isnull()]"
      ],
      "metadata": {
        "id": "4Ok-JbLBgkgy"
      },
      "execution_count": null,
      "outputs": []
    },
    {
      "cell_type": "markdown",
      "source": [
        "**Current Ver: This column contains 8 Nan values**"
      ],
      "metadata": {
        "id": "eO87mIsfguSP"
      }
    },
    {
      "cell_type": "code",
      "source": [
        "ps_df[ps_df['Android Ver'].isnull()]"
      ],
      "metadata": {
        "id": "nX3OGryyglfO"
      },
      "execution_count": null,
      "outputs": []
    },
    {
      "cell_type": "markdown",
      "source": [
        "**Andorid Ver: This column contains 3 Nan values**"
      ],
      "metadata": {
        "id": "QrHq1hULg54F"
      }
    },
    {
      "cell_type": "markdown",
      "source": [
        "### What did you know about your dataset?"
      ],
      "metadata": {
        "id": "H0kj-8xxnORC"
      }
    },
    {
      "cell_type": "markdown",
      "source": [
        "play_store dataframe has **10841 rows** and **13 columns**. The 13 columns are identified as below:\n",
        "\n",
        "**App** - It tells us about the name of the application with a short description (optional).\n",
        "**Category** - It gives the category to the app.\n",
        "**Rating** - It contains the average rating the respective app received from its users.\n",
        "**Reviews** - It tells us about the total number of users who have given a review for the application.\n",
        "**Size**- It tells us about the size being occupied the application on the mobile phone.\n",
        "**Installs** - It tells us about the total number of installs/downloads for an application.\n",
        "**Type** - It states whether an app is free to use or paid.\n",
        "**Price** - It gives the price payable to install the app. For free type apps, the price is zero.\n",
        "**Content Rating** - It states whether or not an app is suitable for all age groups or not.\n",
        "**Genres** - It tells us about the various other categories to which an application can belong.\n",
        "**Last Updated** - It tells us about the when the application was updated.\n",
        "**Current Ver** - It tells us about the current version of the application.\n",
        "**Android Ver** - It tells us about the android version which can support the application on its platform.Answer Here"
      ],
      "metadata": {
        "id": "gfoNAAC-nUe_"
      }
    },
    {
      "cell_type": "markdown",
      "source": [
        "## ***2. Understanding Your Variables and Variables Description***"
      ],
      "metadata": {
        "id": "nA9Y7ga8ng1Z"
      }
    },
    {
      "cell_type": "markdown",
      "source": [
        "*Rating:-*"
      ],
      "metadata": {
        "id": "xx9FRX_zpv0j"
      }
    },
    {
      "cell_type": "code",
      "source": [
        "# Dataset Columns\n",
        "median_rating = ps_df[~ps_df['Rating'].isnull()]['Rating'].median()\n",
        "median_rating"
      ],
      "metadata": {
        "id": "j7xfkqrt5Ag5"
      },
      "execution_count": null,
      "outputs": []
    },
    {
      "cell_type": "markdown",
      "source": [
        "* The `Rating` column contains 1470 NaN values which accounts to apprximately 13.5% of the rows in the entire sheet.\n",
        "* The NaN values in this case can be imputed by the aggregate (median) of the remaining values in the Rating column."
      ],
      "metadata": {
        "id": "hvQnDtsCmESZ"
      }
    },
    {
      "cell_type": "code",
      "source": [
        "# Replacing the NaN values in the 'Rating' colunm with its median value\n",
        "ps_df['Rating'].fillna(value=median_rating,inplace=True)"
      ],
      "metadata": {
        "id": "Uj-KYvnjl4TO"
      },
      "execution_count": null,
      "outputs": []
    },
    {
      "cell_type": "markdown",
      "source": [
        "*Type :-*"
      ],
      "metadata": {
        "id": "1aFITxPOqKy8"
      }
    },
    {
      "cell_type": "code",
      "source": [
        "# Finding the different values the 'Type' column takes\n",
        "ps_df[\"Type\"].value_counts()"
      ],
      "metadata": {
        "id": "DE2xgSv9mi8B"
      },
      "execution_count": null,
      "outputs": []
    },
    {
      "cell_type": "markdown",
      "source": [
        "The Typecolumn contains only two entries, namely, Free and Paid. Also, if the app is of type-paid, the price of that app will be printed in the corresponding Price column, else, it will show as '0'. In this case, the price for the respective app is printed as '0', which means the app is of type-free. Hence we can replace this NaN value with Free."
      ],
      "metadata": {
        "id": "Hq1M2se0nZiv"
      }
    },
    {
      "cell_type": "code",
      "source": [
        "# Replacing the NaN value in 'Type' column corresponding to row index 9148 with 'Free'\n",
        "ps_df.loc[9148,'Type']='Free'\n",
        "ps_df[ps_df[\"Type\"].isnull()]"
      ],
      "metadata": {
        "id": "yNKXCJ7Pn1mY"
      },
      "execution_count": null,
      "outputs": []
    },
    {
      "cell_type": "markdown",
      "source": [
        "*Android Ver :-*"
      ],
      "metadata": {
        "id": "csFgKWhRqSOO"
      }
    },
    {
      "cell_type": "code",
      "source": [
        "# Finding the different values the 'Android Ver' column takes\n",
        "ps_df[\"Android Ver\"].value_counts()"
      ],
      "metadata": {
        "id": "zIWsSzjqn9-O"
      },
      "execution_count": null,
      "outputs": []
    },
    {
      "cell_type": "markdown",
      "source": [
        "In Android Ver column there are only 3 rows which contain NaN values in this column, which accounts to less than 0.03% of the total rows in the given dataset, it can be be dropped."
      ],
      "metadata": {
        "id": "j8GE5U6FoidM"
      }
    },
    {
      "cell_type": "code",
      "source": [
        "# dropping rows corresponding to the to the NaN values in the 'Android Ver' column.\n",
        "ps_df=ps_df[ps_df['Android Ver'].notna()]\n",
        "ps_df.shape"
      ],
      "metadata": {
        "id": "vH2Vqlqhozf_"
      },
      "execution_count": null,
      "outputs": []
    },
    {
      "cell_type": "markdown",
      "source": [
        "*Current Ver :-*"
      ],
      "metadata": {
        "id": "4XzTv3IsqaCY"
      }
    },
    {
      "cell_type": "code",
      "source": [
        "# Finding the different values the 'Current Ver' column takes\n",
        "ps_df['Current Ver'].value_counts()"
      ],
      "metadata": {
        "id": "4_oXVlkjpBfY"
      },
      "execution_count": null,
      "outputs": []
    },
    {
      "cell_type": "markdown",
      "source": [
        "Since there are only 8 rows which contain NaN values in the Current Ver column, and it accounts to just around 0.07% of the total rows in the given dataset, and there is no particular value with which we can replace it, these rows can be dropped."
      ],
      "metadata": {
        "id": "KoUgRpLOpJOL"
      }
    },
    {
      "cell_type": "code",
      "source": [
        "# dropping rows corresponding to the values which contain NaN in the column 'Current Ver'.\n",
        "ps_df=ps_df[ps_df[\"Current Ver\"].notna()]\n",
        "# Shape of the updated dataframe\n",
        "ps_df.shape"
      ],
      "metadata": {
        "id": "r3TjH3HEpZFw"
      },
      "execution_count": null,
      "outputs": []
    },
    {
      "cell_type": "markdown",
      "source": [
        "## ***3. Data Wrangling***"
      ],
      "metadata": {
        "id": "yITsjSD6xxuy"
      }
    },
    {
      "cell_type": "markdown",
      "source": [
        " **Handling duplicates values and Manipulating dataset:**\n",
        " \n",
        "  **`1.Handling the duplicates in the  `App `column`**"
      ],
      "metadata": {
        "id": "5EP0NIQmrZLL"
      }
    },
    {
      "cell_type": "code",
      "source": [
        "# Handling the error values in the Play store data\n",
        "ps_df.head()"
      ],
      "metadata": {
        "id": "ENnm9N5KrfWB"
      },
      "execution_count": null,
      "outputs": []
    },
    {
      "cell_type": "code",
      "source": [
        "ps_df['App'].value_counts()\n"
      ],
      "metadata": {
        "id": "wk-9a2fpoLcV"
      },
      "execution_count": null,
      "outputs": []
    },
    {
      "cell_type": "code",
      "source": [
        "ps_df[ps_df.duplicated()]"
      ],
      "metadata": {
        "id": "7ihGD0ETset1"
      },
      "execution_count": null,
      "outputs": []
    },
    {
      "cell_type": "code",
      "source": [
        "# dropping duplicates from the 'App' column.\n",
        "ps_df.drop_duplicates(subset = 'App', inplace = True)\n",
        "ps_df.shape"
      ],
      "metadata": {
        "id": "g2koFfEeskyi"
      },
      "execution_count": null,
      "outputs": []
    },
    {
      "cell_type": "code",
      "source": [
        "# Checking whether the duplicates in the 'App' column are taken care of or not\n",
        "ps_df[ps_df['App']=='ROBLOX']"
      ],
      "metadata": {
        "id": "F7xDG9PPspcz"
      },
      "execution_count": null,
      "outputs": []
    },
    {
      "cell_type": "markdown",
      "source": [
        "I have successfully handled all the duplicate values in the App column. The resultant number of rows after droping the duplicate rows in the app column come out to be 9649.\n",
        "\n"
      ],
      "metadata": {
        "id": "uizj0u8ms6-s"
      }
    },
    {
      "cell_type": "markdown",
      "source": [
        "**`2. Changing the datatype of the Last Updated column from string to datetime.`**"
      ],
      "metadata": {
        "id": "UtMxRCK2tDiA"
      }
    },
    {
      "cell_type": "code",
      "source": [
        "# Pandas to_datetime() function helps to convert string Date time into Python Date time object.\n",
        "ps_df[\"Last Updated\"] = pd.to_datetime(ps_df['Last Updated'])\n",
        "ps_df.head()"
      ],
      "metadata": {
        "id": "jgDAjqNgtX_Q"
      },
      "execution_count": null,
      "outputs": []
    },
    {
      "cell_type": "markdown",
      "source": [
        "**`3. Converting the datatype of values in the `Reviews` column from string to int.`**"
      ],
      "metadata": {
        "id": "vc8jkQ1rt3-_"
      }
    },
    {
      "cell_type": "code",
      "source": [
        "# Converting the datatype of the values in the reviews column from string to int\n",
        "ps_df['Reviews'] = ps_df['Reviews'].astype(int)\n",
        "ps_df.head()"
      ],
      "metadata": {
        "id": "9VF4h-Lct3qO"
      },
      "execution_count": null,
      "outputs": []
    },
    {
      "cell_type": "markdown",
      "source": [
        "**`4. Changing the datatype of the `Price `column from string to float`.**"
      ],
      "metadata": {
        "id": "uhhemH1ku4U7"
      }
    },
    {
      "cell_type": "code",
      "source": [
        "ps_df['Price'].value_counts()"
      ],
      "metadata": {
        "id": "Gm4UQ9PYuOLz"
      },
      "execution_count": null,
      "outputs": []
    },
    {
      "cell_type": "markdown",
      "source": [
        "To convert this column from string to float, we must first drop the $ symbol from the all the values. Then we can assign float datatype to those values.\n",
        "\n",
        "Applying the `drop_dollar` function to convert the values in the` Price` column from string datatype to float datatype."
      ],
      "metadata": {
        "id": "eCnUMkw3vQiE"
      }
    },
    {
      "cell_type": "code",
      "source": [
        "def convert_dollar(val):\n",
        "  '''\n",
        "  This funtion drops the $ symbol if present and returns the value with float datatype.\n",
        "  '''\n",
        "  if '$' in val:\n",
        "    return float(val[1:])\n",
        "  else:\n",
        "    return float(val)\n",
        "\n",
        "# The drop_dollar funtion applied to the price column\n",
        "ps_df['Price']=ps_df['Price'].apply(lambda x: convert_dollar(x))\n",
        "ps_df.head()\n"
      ],
      "metadata": {
        "id": "HpApE1cevAwy"
      },
      "execution_count": null,
      "outputs": []
    },
    {
      "cell_type": "markdown",
      "source": [
        "I have successfully converted the datatype of values in the Price column from string to float."
      ],
      "metadata": {
        "id": "PEdOPim7vu45"
      }
    },
    {
      "cell_type": "markdown",
      "source": [
        "**5. Converting the values in the `Installs`column from string datatype to integer datatype.**"
      ],
      "metadata": {
        "id": "Jweau0t5v6T1"
      }
    },
    {
      "cell_type": "code",
      "source": [
        "ps_df['Installs'].value_counts()"
      ],
      "metadata": {
        "id": "80suKXxQv8zW"
      },
      "execution_count": null,
      "outputs": []
    },
    {
      "cell_type": "markdown",
      "source": [
        "To convert all the values in the Installs column from string datatype to integer datatype, we must first drop the '+' symbol from all the entries if present and then we can change its datatype.\n",
        "\n",
        "Applying the convert_plus function to convert the values in the Installs column from string datatype to float datatype."
      ],
      "metadata": {
        "id": "0FrG7NN8wOTp"
      }
    },
    {
      "cell_type": "code",
      "source": [
        "def convert_plus(val):\n",
        "  '''\n",
        "  This function drops the + symbol if present and returns the value with int datatype.\n",
        "  '''\n",
        "  if '+' and ',' in val:\n",
        "    new = int(val[:-1].replace(',',''))\n",
        "    return new\n",
        "  elif '+' in val:\n",
        "    new1 = int(val[:-1])\n",
        "    return new1\n",
        "  else:\n",
        "    return int(val)\n",
        "\n",
        "# The drop_plus funtion applied to the main dataframe\n",
        "\n",
        "ps_df['Installs'] = ps_df['Installs'].apply(lambda x: convert_plus(x))\n",
        "ps_df.head()    "
      ],
      "metadata": {
        "id": "CFA0bWkgwWLN"
      },
      "execution_count": null,
      "outputs": []
    },
    {
      "cell_type": "markdown",
      "source": [
        "**`6. Converting the values in the `Size` column to a same unit of measure(MB).`**"
      ],
      "metadata": {
        "id": "iwzkU8hXwtkX"
      }
    },
    {
      "cell_type": "code",
      "source": [
        "ps_df['Size'].value_counts()"
      ],
      "metadata": {
        "id": "FCM50wmewxF8"
      },
      "execution_count": null,
      "outputs": []
    },
    {
      "cell_type": "markdown",
      "source": [
        "We know that 1MB = 1024KB, to convert KB to MB, we must divide all the values which are in KB by 1024."
      ],
      "metadata": {
        "id": "GKS-GqIvxIuq"
      }
    },
    {
      "cell_type": "code",
      "source": [
        "# Defining a function to convert all the entries in KB to MB and then converting them to float datatype.\n",
        "\n",
        "def convert_kb_to_mb(val):\n",
        "  '''\n",
        "  This function converts all the valid entries in KB to MB and returns the result in float datatype.\n",
        "  '''\n",
        "  try:\n",
        "    if 'M' in val:\n",
        "      return float(val[:-1])\n",
        "    elif 'k' in val:\n",
        "      return round(float(val[:-1])/1024, 4)\n",
        "    else:\n",
        "      return val\n",
        "  except:\n",
        "    return val\n",
        "\n",
        "# The kb_to_mb funtion applied to the size column\n",
        "\n",
        "ps_df['Size'] = ps_df['Size'].apply(lambda x: convert_kb_to_mb(x))\n",
        "ps_df.head()    "
      ],
      "metadata": {
        "id": "w7BnivXPxJky"
      },
      "execution_count": null,
      "outputs": []
    },
    {
      "cell_type": "code",
      "source": [
        "ps_df.describe()"
      ],
      "metadata": {
        "id": "eIVACHcgy821"
      },
      "execution_count": null,
      "outputs": []
    },
    {
      "cell_type": "markdown",
      "source": [
        "### What all manipulations have you done and insights you found?"
      ],
      "metadata": {
        "id": "MSa1f5Uengrz"
      }
    },
    {
      "cell_type": "markdown",
      "source": [
        "I have handled the errors or manipulations and NaN values in the playstoredata in above 6 steps.csv file, lets do the same for the userreviews.csv file."
      ],
      "metadata": {
        "id": "LbyXE7I1olp8"
      }
    },
    {
      "cell_type": "markdown",
      "source": [
        "##***Exploring User_review dataframe*** (same step Follow as play stora dataset)"
      ],
      "metadata": {
        "id": "cL2cef6t1dHT"
      }
    },
    {
      "cell_type": "code",
      "source": [
        "# Checking the top 10 rows of the data\n",
        "ur_df.head()"
      ],
      "metadata": {
        "id": "uL7fmQT-1mC5"
      },
      "execution_count": null,
      "outputs": []
    },
    {
      "cell_type": "code",
      "source": [
        "ur_df.info()"
      ],
      "metadata": {
        "id": "0gdwig201rwp"
      },
      "execution_count": null,
      "outputs": []
    },
    {
      "cell_type": "markdown",
      "source": [
        "\n",
        "user_reviews dataframe has 64295 rows and 5 columns. The 5 columns are identified as follows:\n",
        "\n",
        "* **App:** Contains the name of the app with a short description (optional).\n",
        "* **Translated_Review**\n",
        "* **Sentiment:** It can be ‘Positive’, ‘Negative’, or ‘Neutral’.\n",
        "* **Sentiment_Polarity:** It gives the polarity of the review. Its range is [-1,1], where 1 means ‘Positive statement’ and -1 means a ‘Negative statement’.\n",
        "* **Sentiment_Subjectivity**"
      ],
      "metadata": {
        "id": "N0Vp8nID2DUW"
      }
    },
    {
      "cell_type": "code",
      "source": [
        "# Checking shape and column in dataframe\n",
        "print(ur_df.columns)\n",
        "rows=ur_df.shape[0]\n",
        "columns=ur_df.shape[1]\n",
        "print(f\"the no of rows is {rows} and no of columns is {columns}\")"
      ],
      "metadata": {
        "id": "sqLEIg4C1xZ3"
      },
      "execution_count": null,
      "outputs": []
    },
    {
      "cell_type": "code",
      "source": [
        "def Urinfo():\n",
        "  temp1=pd.DataFrame(index=ur_df.columns)\n",
        "  temp1[\"datatype\"]=ur_df.dtypes\n",
        "  temp1[\"not null values\"]=ur_df.count()\n",
        "  temp1[\"null value\"]=ur_df.isnull().sum()\n",
        "  temp1[\"% of the null value\"]=ur_df.isnull().mean().round(4)*100\n",
        "  temp1[\"unique count\"]=ur_df.nunique()\n",
        "  return temp1\n",
        "Urinfo()"
      ],
      "metadata": {
        "id": "0qlegti92uHw"
      },
      "execution_count": null,
      "outputs": []
    },
    {
      "cell_type": "markdown",
      "source": [
        "**Findings**\n",
        "\n",
        "The number of null values are:\n",
        "* **Translated_Review** has 26868 null values which contributes **41.79%** of the data.\n",
        "* **Sentiment** has 26863 null values which contributes **41.78%** of the data.\n",
        "* **Sentiment_Polarity**  has 26863 null values which contributes **41.78%** of the data.\n",
        "* **Sentiment_Subjectivity** has 26863 null values which contributes **41.78%** of the data."
      ],
      "metadata": {
        "id": "N_A_rdIM5Tiy"
      }
    },
    {
      "cell_type": "markdown",
      "source": [
        "**Handling the error and NaN values in the User reviews**"
      ],
      "metadata": {
        "id": "d5Ra_pXU3WDK"
      }
    },
    {
      "cell_type": "code",
      "source": [
        "# Finding the total no of NaN values in each column.\n",
        "ur_df.isnull().sum()"
      ],
      "metadata": {
        "id": "BcMcyGl13dB2"
      },
      "execution_count": null,
      "outputs": []
    },
    {
      "cell_type": "code",
      "source": [
        "#checking the NaN values in the translated rview column\n",
        "ur_df[ur_df['Translated_Review'].isnull()]"
      ],
      "metadata": {
        "id": "AaeE-2ob3h82"
      },
      "execution_count": null,
      "outputs": []
    },
    {
      "cell_type": "markdown",
      "source": [
        "here are a total of 26868 rows containing NaN values in the Translated_Review column.\n",
        "\n",
        "We can say that the apps which do not have a review (NaN value insted) tend to have NaN values in the columns Sentiment, Sentiment_Polarity, and Sentiment_Subjectivity in the majority of the cases.\n",
        "\n",
        "Hence the Nan can be deleted altogather"
      ],
      "metadata": {
        "id": "TIgc-pRA338V"
      }
    },
    {
      "cell_type": "code",
      "source": [
        "# Deleting the rows containing NaN values\n",
        "ur_df = ur_df.dropna()\n",
        "# The shape of the updated df\n",
        "ur_df.shape"
      ],
      "metadata": {
        "id": "Xc6aYBr-4EGH"
      },
      "execution_count": null,
      "outputs": []
    },
    {
      "cell_type": "code",
      "source": [
        "# Inspecting the sentiment column\n",
        "ur_df['Sentiment'].value_counts()"
      ],
      "metadata": {
        "id": "ylj-2cAr4mGJ"
      },
      "execution_count": null,
      "outputs": []
    },
    {
      "cell_type": "markdown",
      "source": [
        "In User Revies data set, we successfully developed a data pipeline. We can now examine this data flow and create user-friendly visuals."
      ],
      "metadata": {
        "id": "TOPp-7o43W5t"
      }
    },
    {
      "cell_type": "markdown",
      "source": [
        "## ***4. Data Vizualization, Storytelling & Experimenting with charts : Understand the relationships between variables***"
      ],
      "metadata": {
        "id": "GF8Ens_Soomf"
      }
    },
    {
      "cell_type": "markdown",
      "source": [
        "\n",
        "We have sucessfully cleaned the dirty data. Now we can perform some data visualization and come up with insights on the given datasets.\n"
      ],
      "metadata": {
        "id": "ggP4Zlcz6oDB"
      }
    },
    {
      "cell_type": "markdown",
      "source": [
        "## **`1). Correlation Heatmap`**"
      ],
      "metadata": {
        "id": "0wOQAZs5pc--"
      }
    },
    {
      "cell_type": "code",
      "source": [
        "# Finding correlation between different columns in the play store data\n",
        "ps_df.corr()"
      ],
      "metadata": {
        "id": "7v_ESjsspbW7"
      },
      "execution_count": null,
      "outputs": []
    },
    {
      "cell_type": "code",
      "source": [
        "# Heat map for play_store\n",
        "plt.figure(figsize = (20,10))\n",
        "sns.heatmap(ps_df.corr(), annot= True)\n",
        "plt.title('Corelation Heatmap for Playstore Data', size=20)"
      ],
      "metadata": {
        "id": "1RJpcatf7JI7"
      },
      "execution_count": null,
      "outputs": []
    },
    {
      "cell_type": "markdown",
      "source": [
        "##### 1. What is/are the insight(s) found from the chart?"
      ],
      "metadata": {
        "id": "lQ7QKXXCp7Bj"
      }
    },
    {
      "cell_type": "markdown",
      "source": [
        "**Answer :-** The` Rating` is slightly positively correlated with the` Installs and Reviews` column. This indicates that as the the average user rating increases, the app installs.\n"
      ],
      "metadata": {
        "id": "C_j1G7yiqdRP"
      }
    },
    {
      "cell_type": "markdown",
      "source": [
        "##### 2. Will the gained insights help creating a positive business impact? \n",
        "Are there any insights that lead to negative growth? Justify with specific reason."
      ],
      "metadata": {
        "id": "448CDAPjqfQr"
      }
    },
    {
      "cell_type": "markdown",
      "source": [
        "**Answer :-**There is a strong positive correlation between the Reviews and Installs column. This is pretty much obvious. Higher the number of installs, higher is the user base, and higher are the total number of reviews dropped by the users.\n",
        "\n",
        "The` Price `is slightly negatively correlated with the `Rating, Reviews, and Installs.` This means that as the prices of the app increases, the average rating, total number of reviews and Installs fall slightly."
      ],
      "metadata": {
        "id": "3cspy4FjqxJW"
      }
    },
    {
      "cell_type": "markdown",
      "source": [
        "## **2). What is the ratio of number of Paid apps and Free apps?**\n"
      ],
      "metadata": {
        "id": "KSlN3yHqYklG"
      }
    },
    {
      "cell_type": "code",
      "source": [
        "data = ps_df['Type'].value_counts() \n",
        "labels = ['Free', 'Paid']\n",
        "\n",
        "# create pie chart\n",
        "plt.figure(figsize=(10,10))\n",
        "colors = [\"#00EE76\",\"#7B8895\"]\n",
        "explode=(0.01,0.1)\n",
        "plt.pie(data, labels = labels, colors = colors, autopct='%.2f%%',explode=explode,textprops={'fontsize': 15})\n",
        "plt.title('Distribution of Paid and Free apps',size=15,loc='center')\n",
        "plt.legend()"
      ],
      "metadata": {
        "id": "R4YgtaqtYklH"
      },
      "execution_count": null,
      "outputs": []
    },
    {
      "cell_type": "markdown",
      "source": [
        "##### 1. Why did you pick the specific chart?"
      ],
      "metadata": {
        "id": "t6dVpIINYklI"
      }
    },
    {
      "cell_type": "markdown",
      "source": [
        "**Answer:-**Pie chart clear the easy visualization in the ratio term."
      ],
      "metadata": {
        "id": "5aaW0BYyYklI"
      }
    },
    {
      "cell_type": "markdown",
      "source": [
        "##### 2. What is/are the insight(s) found from the chart?"
      ],
      "metadata": {
        "id": "ijmpgYnKYklI"
      }
    },
    {
      "cell_type": "markdown",
      "source": [
        "**Answer:-** From the above graph we can see that 92% of apps in google play store are free and 8%are paid."
      ],
      "metadata": {
        "id": "PSx9atu2YklI"
      }
    },
    {
      "cell_type": "markdown",
      "source": [
        "## **3).  Which category of Apps from the Content Rating column are found more on playstore ?**"
      ],
      "metadata": {
        "id": "EM7whBJCYoAo"
      }
    },
    {
      "cell_type": "code",
      "source": [
        "ps_df['Content Rating'].unique()"
      ],
      "metadata": {
        "id": "t6GMdE67YoAp"
      },
      "execution_count": null,
      "outputs": []
    },
    {
      "cell_type": "code",
      "source": [
        "# Content rating of the apps\n",
        "data = ps_df['Content Rating'].value_counts()\n",
        "labels = ['Everyone', 'Teen', 'Everyone 10+', 'Mature 17+','Adults only 18+', 'Unrated']\n",
        "\n",
        "#create pie chart\n",
        "plt.figure(figsize=(10,10))\n",
        "explode=(0,0.1,0.1,0.1,0.0,1.3)\n",
        "colors = ['C4', 'r', 'c', 'g', 'm', 'k']\n",
        "plt.pie(data, labels = labels, colors = colors, autopct='%.2f%%',explode=explode,textprops={'fontsize': 15})\n",
        "plt.title('Content Rating',size=20,loc='center')\n",
        "plt.legend()"
      ],
      "metadata": {
        "id": "3Ah03GdXj_7R"
      },
      "execution_count": null,
      "outputs": []
    },
    {
      "cell_type": "markdown",
      "source": [
        "##### 1. Why did you pick the specific chart?"
      ],
      "metadata": {
        "id": "fge-S5ZAYoAp"
      }
    },
    {
      "cell_type": "markdown",
      "source": [
        "**Answer:-**Pie chart clear the easy visualization in the ratio term."
      ],
      "metadata": {
        "id": "5dBItgRVYoAp"
      }
    },
    {
      "cell_type": "markdown",
      "source": [
        "##### 2. What is/are the insight(s) found from the chart?"
      ],
      "metadata": {
        "id": "85gYPyotYoAp"
      }
    },
    {
      "cell_type": "markdown",
      "source": [
        "**Answer:-**A majority of the apps (82%) in the play store are can be used by everyone.The remaining apps have various age restrictions to use it.Answer Here"
      ],
      "metadata": {
        "id": "4jstXR6OYoAp"
      }
    },
    {
      "cell_type": "markdown",
      "source": [
        "## **4). What is Top Categories in App?**"
      ],
      "metadata": {
        "id": "4Of9eVA-YrdM"
      }
    },
    {
      "cell_type": "code",
      "source": [
        "ps_df.groupby(\"Category\")[\"App\"].count().sort_values(ascending= False)"
      ],
      "metadata": {
        "id": "irlUoxc8YrdO"
      },
      "execution_count": null,
      "outputs": []
    },
    {
      "cell_type": "code",
      "source": [
        "x = ps_df['Category'].value_counts()\n",
        "y = ps_df['Category'].value_counts().index\n",
        "x_list = []\n",
        "y_list = []\n",
        "for i in range(len(x)):\n",
        "    x_list.append(x[i])\n",
        "    y_list.append(y[i])"
      ],
      "metadata": {
        "id": "Y13Wrh5FlVeq"
      },
      "execution_count": null,
      "outputs": []
    },
    {
      "cell_type": "code",
      "source": [
        "#Number of apps belonging to each category in the playstore\n",
        "plt.figure(figsize=(20,10))\n",
        "plt.xlabel('Number of Apps', size=15)\n",
        "plt.ylabel('App Categories', size=15)\n",
        "graph = sns.barplot(y = x_list, x = y_list, palette= \"tab10\")\n",
        "graph.set_title(\"Top categories on Playstore\", fontsize = 25)\n",
        "graph.set_xticklabels(graph.get_xticklabels(), rotation= 45, horizontalalignment='right',);"
      ],
      "metadata": {
        "id": "iSUzVeDdlgLW"
      },
      "execution_count": null,
      "outputs": []
    },
    {
      "cell_type": "markdown",
      "source": [
        "##### 1. Why did you pick the specific chart?"
      ],
      "metadata": {
        "id": "iky9q4vBYrdO"
      }
    },
    {
      "cell_type": "markdown",
      "source": [
        "**Answer:-** Column Chart showing visualization more effective for categories because number of categories are 33."
      ],
      "metadata": {
        "id": "aJRCwT6DYrdO"
      }
    },
    {
      "cell_type": "markdown",
      "source": [
        "##### 2. What is/are the insight(s) found from the chart?"
      ],
      "metadata": {
        "id": "F6T5p64dYrdO"
      }
    },
    {
      "cell_type": "markdown",
      "source": [
        "**Answer:-**There are all total 33 categories in the dataset From the above output we can come to a conclusion that in playstore most of the apps are underFAMILY & GAME category and least are of EVENTS & BEAUTY Category."
      ],
      "metadata": {
        "id": "Xx8WAJvtYrdO"
      }
    },
    {
      "cell_type": "markdown",
      "source": [
        "\n",
        "### **`5). Which category App's have most number of installs?`**"
      ],
      "metadata": {
        "id": "bamQiAODYuh1"
      }
    },
    {
      "cell_type": "code",
      "source": [
        "# total app installs in each category of the play store\n",
        "\n",
        "a = ps_df.groupby(['Category'])['Installs'].sum().sort_values()\n",
        "a.plot.barh(figsize=(15,10), color = 'c', )\n",
        "plt.ylabel('Total app Installs', fontsize = 15)\n",
        "plt.xlabel('App Categories', fontsize = 15)\n",
        "plt.xticks()\n",
        "plt.title('Total app installs in each category', fontsize = 20)"
      ],
      "metadata": {
        "id": "TIJwrbroYuh3"
      },
      "execution_count": null,
      "outputs": []
    },
    {
      "cell_type": "markdown",
      "source": [
        "**Findings:-**This tells us the category of apps that has the maximum number of installs. The `Game,` `Communication and Tools` categories has the highest number of installs compared to other categories of apps."
      ],
      "metadata": {
        "id": "uyqkiB8YYuh3"
      }
    },
    {
      "cell_type": "markdown",
      "source": [
        "### **5). Average rating of the apps**"
      ],
      "metadata": {
        "id": "OH-pJp9IphqM"
      }
    },
    {
      "cell_type": "code",
      "source": [
        "# Average app ratings\n",
        "\n",
        "ps_df['Rating'].value_counts().plot.bar(figsize=(20,8), color = 'm' )\n",
        "plt.xlabel('Average rating',fontsize = 15 )\n",
        "plt.ylabel('Number of apps', fontsize = 15)\n",
        "plt.title('Average rating of apps in Playstore', fontsize = 20)\n",
        "plt.legend()"
      ],
      "metadata": {
        "id": "kuRf4wtuphqN"
      },
      "execution_count": null,
      "outputs": []
    },
    {
      "cell_type": "markdown",
      "source": [
        "We can represent the ratings in a better way if we group the ratings between certain intervals. Here, we can group the rating as follows:\n",
        "\n",
        "* 4-5: Top rated\n",
        "* 3-4: Above average\n",
        "* 2-3: Average\n",
        "* 1-2: Below average"
      ],
      "metadata": {
        "id": "-KBKRC8qoiSP"
      }
    },
    {
      "cell_type": "markdown",
      "source": [
        "**Lets create a new column `Rating group` in the main dataframe and apply these filters.**"
      ],
      "metadata": {
        "id": "TZVJxK9lpHrv"
      }
    },
    {
      "cell_type": "code",
      "source": [
        "def Rating_app(val):\n",
        "  ''''\n",
        "  This function help to categories the rating from 1 to 5\n",
        "  as Top_rated,Above_average,Average & below Average\n",
        "  '''\n",
        "  if val>=4:\n",
        "    return 'Top rated'\n",
        "  elif val>3 and val<4:\n",
        "    return 'Above Average'\n",
        "  elif val>2 and val<3:\n",
        "    return 'Average'\n",
        "  else:\n",
        "    return 'Below Average'\n",
        "\n",
        "# Applying grouped_rating function\n",
        "ps_df['Rating_group']=ps_df['Rating'].apply(lambda x: Rating_app(x))"
      ],
      "metadata": {
        "id": "poiDmswsoiCZ"
      },
      "execution_count": null,
      "outputs": []
    },
    {
      "cell_type": "code",
      "source": [
        "# Average app ratings \n",
        "ps_df['Rating_group'].value_counts().plot.bar(figsize=(15,5), color = 'royalblue')\n",
        "plt.xlabel('Rating Group', fontsize = 12)\n",
        "plt.ylabel('Number of apps', fontsize = 12)\n",
        "plt.title('Average app ratings', fontsize = 18)\n",
        "plt.xticks(rotation=0)\n",
        "plt.legend()"
      ],
      "metadata": {
        "id": "GBSovCWupgaU"
      },
      "execution_count": null,
      "outputs": []
    },
    {
      "cell_type": "markdown",
      "source": [
        "### **7). What are the Top 10 installed apps in any category?**"
      ],
      "metadata": {
        "id": "PIIx-8_IphqN"
      }
    },
    {
      "cell_type": "code",
      "source": [
        "def findtop10incategory(str):\n",
        "    str = str.upper()\n",
        "    top10 = ps_df[ps_df['Category'] == str]\n",
        "    top10apps = top10.sort_values(by='Installs', ascending=False).head(10)\n",
        "    plt.figure(figsize=(15,6), dpi=100)\n",
        "    plt.title('Top 10 Installed Apps',size = 20)  \n",
        "    graph = sns.barplot(x = top10apps.App, y = top10apps.Installs, palette= \"icefire\")\n",
        "    graph.set_xticklabels(graph.get_xticklabels(), rotation= 45, horizontalalignment='right')"
      ],
      "metadata": {
        "id": "lqAIGUfyphqO"
      },
      "execution_count": null,
      "outputs": []
    },
    {
      "cell_type": "code",
      "source": [
        "findtop10incategory('GAME')"
      ],
      "metadata": {
        "id": "H34pLqmtqLJF"
      },
      "execution_count": null,
      "outputs": []
    },
    {
      "cell_type": "markdown",
      "source": [
        "**Findings:**\n",
        "\n",
        "From the above graph we can see that in the **`Game category Subway Surfers,Candy Crush Saga, Temple Run 2`** has the highest installs. In the same way we by passing different category names to the function, we can get the top 10 installed apps."
      ],
      "metadata": {
        "id": "i00E29PRqFL4"
      }
    },
    {
      "cell_type": "markdown",
      "source": [
        "### **8). Top apps that are of free type.**"
      ],
      "metadata": {
        "id": "BZR9WyysphqO"
      }
    },
    {
      "cell_type": "code",
      "source": [
        "# Creating a df for top free apps\n",
        "top_free_df = ps_df[ps_df['Installs'] == ps_df['Installs'].max()]\n",
        "top10free_apps=top_free_df.nlargest(10, 'Installs', keep='first')\n",
        "top10free_apps.head(10)"
      ],
      "metadata": {
        "id": "TdPTWpAVphqO"
      },
      "execution_count": null,
      "outputs": []
    },
    {
      "cell_type": "code",
      "source": [
        "# Categories in which the top 20 free apps belong to\n",
        "top_free_df['Category'].value_counts().plot.bar(figsize=(20,6), color= ('darkcyan','blueviolet'))\n",
        "plt.xlabel('Category', size=15)\n",
        "plt.ylabel('Number of apps', size=15)\n",
        "plt.title('Categories in which the top 20 free apps belong', size=19)\n",
        "plt.xticks(rotation=45)\n",
        "plt.legend()\n"
      ],
      "metadata": {
        "id": "URL2hIbxq1Nm"
      },
      "execution_count": null,
      "outputs": []
    },
    {
      "cell_type": "markdown",
      "source": [
        "### **9). Top apps that are of paid type.**"
      ],
      "metadata": {
        "id": "YJ55k-q6phqO"
      }
    },
    {
      "cell_type": "code",
      "source": [
        "# Creating a df containing only paid apps\n",
        "paid_df=ps_df[ps_df['Type']=='Paid']"
      ],
      "metadata": {
        "id": "B2aS4O1ophqO"
      },
      "execution_count": null,
      "outputs": []
    },
    {
      "cell_type": "code",
      "source": [
        "# Number of apps that can be installed at a particular price \n",
        "paid_df.groupby('Price')['App'].count().sort_values(ascending= False).plot.bar(figsize = (20,6), color = 'crimson')"
      ],
      "metadata": {
        "id": "ae4fS_Z3sTY6"
      },
      "execution_count": null,
      "outputs": []
    },
    {
      "cell_type": "markdown",
      "source": [
        "* The paid apps charge the users a certain amount to download and install the app. This amount varies from one app to another.\n",
        "* Here a better way to determine the top apps in the paid category is by finding the revenue it generated through app installs.\n",
        "* This is given by:\n",
        "\n",
        " Revenue generated through installs = (Number of installs)x(Price to install the app)"
      ],
      "metadata": {
        "id": "PiMrmzpvskzJ"
      }
    },
    {
      "cell_type": "code",
      "source": [
        "# Creatng a new column 'Revenue' in paid_df\n",
        "paid_df['Revenue'] = paid_df['Installs']*paid_df['Price']\n",
        "paid_df.head()"
      ],
      "metadata": {
        "id": "b04HJx0Ss0-A"
      },
      "execution_count": null,
      "outputs": []
    },
    {
      "cell_type": "code",
      "source": [
        "# Top app in the paid category\n",
        "paid_df[paid_df['Revenue'] == paid_df['Revenue'].max()]"
      ],
      "metadata": {
        "id": "qhNY9ogDs75W"
      },
      "execution_count": null,
      "outputs": []
    },
    {
      "cell_type": "code",
      "source": [
        "# Top 10 paid apps in the play store\n",
        "top10paid_apps=paid_df.nlargest(10, 'Revenue', keep='first')\n",
        "top10paid_apps['App']"
      ],
      "metadata": {
        "id": "4OOhOAIotGe0"
      },
      "execution_count": null,
      "outputs": []
    },
    {
      "cell_type": "code",
      "source": [
        "# Categories in which the top 10 paid apps belong to\n",
        "top10paid_apps['Category'].value_counts().plot.bar(figsize=(15,5), color= [\"orange\", \"red\", \"green\", \"blue\", \"purple\"])\n",
        "plt.xlabel('Category',size=12)\n",
        "plt.ylabel('Number of apps',size=12)\n",
        "plt.title('Categories in which the top 10 paid apps belong', size=15)\n",
        "plt.xticks(rotation=0)\n",
        "plt.legend()"
      ],
      "metadata": {
        "id": "WC7wd2jGtOiU"
      },
      "execution_count": null,
      "outputs": []
    },
    {
      "cell_type": "markdown",
      "source": [
        "### **10). Distribution of apps based on its size**#### "
      ],
      "metadata": {
        "id": "U2RJ9gkRphqQ"
      }
    },
    {
      "cell_type": "markdown",
      "source": [
        "Lets group the data in the size column as follows into intervals of 10 each:\n",
        "\n",
        "(< 1 MB, 1-10, 10-20, 20-30, ..., 90-100, 'Varies with device')\n"
      ],
      "metadata": {
        "id": "IjXlLCnavU7b"
      }
    },
    {
      "cell_type": "code",
      "source": [
        "# Function to group the apps based on its size in MB\n",
        "\n",
        "def size_apps(var):\n",
        "  '''\n",
        "  This function groups the size of an app \n",
        "  between ~0 to 100 MB into certain intervals.\n",
        "  '''\n",
        "  try:\n",
        "    if var < 1:\n",
        "      return 'Below 1'\n",
        "    elif var >= 1 and var <10:\n",
        "      return '1-10'\n",
        "    elif var >= 10 and var <20:\n",
        "      return '10-20'\n",
        "    elif var >= 20 and var <30:\n",
        "      return '20-30'\n",
        "    elif var >= 30 and var <40:\n",
        "      return '30-40'\n",
        "    elif var >= 40 and var <50:\n",
        "      return '40-50'\n",
        "    elif var >= 50 and var <60:\n",
        "      return '50-60'\n",
        "    elif var >= 60 and var <70:\n",
        "      return '60-70'\n",
        "    elif var >= 70 and var <80:\n",
        "      return '70-80'\n",
        "    elif var >= 80 and var <90:\n",
        "      return '80-90'\n",
        "    else:\n",
        "      return '90 and above'\n",
        "  except:\n",
        "    return var\n",
        "\n",
        "ps_df['size_group']=ps_df['Size'].apply(lambda x : size_apps(x))\n",
        "ps_df.head()    "
      ],
      "metadata": {
        "id": "gfflyRy8vfFl"
      },
      "execution_count": null,
      "outputs": []
    },
    {
      "cell_type": "code",
      "source": [
        "# no of apps belonging to each size group\n",
        "ps_df['size_group'].value_counts().plot.barh(figsize=(20,8),color='g').invert_yaxis()\n",
        "plt.title(\"Number of apps in different size groups\", size=20)\n",
        "plt.ylabel('App size in MB', size=15)\n",
        "plt.xlabel('No of apps', size=15)\n",
        "plt.legend()"
      ],
      "metadata": {
        "id": "FJ28SmkevrLe"
      },
      "execution_count": null,
      "outputs": []
    },
    {
      "cell_type": "markdown",
      "source": [
        "*   The sizes of the majority of the apps range in between 1 and 20 MB.\n",
        "*   There are a good number of apps whose size varies with the device."
      ],
      "metadata": {
        "id": "5qMbFANmv-x6"
      }
    },
    {
      "cell_type": "markdown",
      "source": [
        "## **Data Visualization on User Reviews:**\n",
        "### **`1). Percentage of Review Sentiments`**"
      ],
      "metadata": {
        "id": "x-EpHcCOp1ci"
      }
    },
    {
      "cell_type": "code",
      "source": [
        "ur_df.columns"
      ],
      "metadata": {
        "id": "mAQTIvtqp1cj"
      },
      "execution_count": null,
      "outputs": []
    },
    {
      "cell_type": "code",
      "source": [
        "import matplotlib\n",
        "counts = list(ur_df['Sentiment'].value_counts())\n",
        "labels = 'Positive Reviews', 'Negative Reviews','Neutral Reviews'\n",
        "matplotlib.rcParams['font.size'] = 20\n",
        "matplotlib.rcParams['figure.figsize'] = (10, 15)\n",
        "plt.pie(counts, labels=labels, explode=[0.01, 0.05, 0.05], shadow=True, autopct=\"%.2f%%\")\n",
        "plt.title('Percentage of Review Sentiments', fontsize=20)\n",
        "plt.axis('off')\n",
        "plt.legend(bbox_to_anchor=(0.9, 0, 0.5, 1))\n",
        "plt.show()"
      ],
      "metadata": {
        "id": "ve8f9KT_wnfM"
      },
      "execution_count": null,
      "outputs": []
    },
    {
      "cell_type": "markdown",
      "source": [
        "**Findings:**\n",
        "\n",
        "1. Positive reviews are **64.30%**\n",
        "2. Negative reviews are **22.80%**\n",
        "3. Neutral reviews are **12.90%**"
      ],
      "metadata": {
        "id": "nI3698jjwvOs"
      }
    },
    {
      "cell_type": "markdown",
      "source": [
        "### **`2). Apps with the highest number of positive reviews`**"
      ],
      "metadata": {
        "id": "Ag9LCva-p1cl"
      }
    },
    {
      "cell_type": "code",
      "source": [
        "# positive reviews\n",
        "positive_ur_df=ur_df[ur_df['Sentiment']=='Positive']\n",
        "positive_ur_df"
      ],
      "metadata": {
        "id": "EUfxeq9-p1cl"
      },
      "execution_count": null,
      "outputs": []
    },
    {
      "cell_type": "code",
      "source": [
        "positive_ur_df.groupby('App')['Sentiment'].value_counts().nlargest(10).plot.barh(figsize=(10,8),color='seagreen').invert_yaxis()\n",
        "plt.title(\"Top 10 positive review apps\")\n",
        "plt.xlabel('Total number of positive reviews')\n",
        "plt.legend()"
      ],
      "metadata": {
        "id": "MktHAY41xLuC"
      },
      "execution_count": null,
      "outputs": []
    },
    {
      "cell_type": "markdown",
      "source": [
        "### **`3). Apps with the highest number of negative reviews.`**"
      ],
      "metadata": {
        "id": "NC_X3p0fY2L0"
      }
    },
    {
      "cell_type": "code",
      "source": [
        "negative_ur_df=ur_df[ur_df['Sentiment']=='Negative']\n",
        "negative_ur_df"
      ],
      "metadata": {
        "id": "xyC9zolEZNRQ"
      },
      "execution_count": null,
      "outputs": []
    },
    {
      "cell_type": "code",
      "source": [
        "negative_ur_df.groupby('App')['Sentiment'].value_counts().nlargest(10).plot.barh(figsize=(15,8),color='r').invert_yaxis()\n",
        "plt.title(\"Top 10 negative review apps\")\n",
        "plt.xlabel('Total number of negative reviews')\n",
        "plt.legend()"
      ],
      "metadata": {
        "id": "--mu4TghxnEr"
      },
      "execution_count": null,
      "outputs": []
    },
    {
      "cell_type": "markdown",
      "source": [
        "### **`4). Histogram of Subjectivity`**"
      ],
      "metadata": {
        "id": "q29F0dvdveiT"
      }
    },
    {
      "cell_type": "code",
      "source": [
        "ur_df.Sentiment_Subjectivity.value_counts()"
      ],
      "metadata": {
        "id": "o58-TEIhveiU"
      },
      "execution_count": null,
      "outputs": []
    },
    {
      "cell_type": "code",
      "source": [
        "plt.figure(figsize=(18,9))\n",
        "plt.xlabel(\"Subjectivity\")\n",
        "plt.title(\"Distribution of Subjectivity\")\n",
        "plt.hist(ur_df[ur_df['Sentiment_Subjectivity'].notnull()]['Sentiment_Subjectivity'])\n",
        "plt.show()"
      ],
      "metadata": {
        "id": "pQgiUJ9fyG-E"
      },
      "execution_count": null,
      "outputs": []
    },
    {
      "cell_type": "markdown",
      "source": [
        "**Findings:**\n",
        "\n",
        "It can be seen that maximum number of sentiment subjectivity lies between 0.4 to 0.7. From this we can conclude that maximum number of users give reviews to the applications, according to their experience."
      ],
      "metadata": {
        "id": "n3XYcAoUy_qP"
      }
    },
    {
      "cell_type": "markdown",
      "source": [
        "## **5. Solution to Business Objective**"
      ],
      "metadata": {
        "id": "JcMwzZxoAimU"
      }
    },
    {
      "cell_type": "markdown",
      "source": [
        "#### What do you suggest the client to achieve Business Objective ? \n",
        "In this project of analyzing play store applications, we have worked on several parameters which would help the client to do well in launching their apps on the play store.\n",
        "\n",
        "Clients needs to focus more on:\n",
        "1. Most of the apps are Free, so focusing on free app is more important.\n",
        "2. Focusing more on content available for Everyone will increase the chances of getting the highest installs.\n",
        "3. They need to focus on updating their apps regularly, so that it will attract more users.\n",
        "5. They need to keep in mind that the sentiments of the user keep varying as they keep using the app, so they should focus more on users needs and features.\n",
        "\n"
      ],
      "metadata": {
        "id": "8G2x9gOozGDZ"
      }
    },
    {
      "cell_type": "markdown",
      "source": [
        "# **Conclusion**"
      ],
      "metadata": {
        "id": "gCX9965dhzqZ"
      }
    },
    {
      "cell_type": "markdown",
      "source": [
        "In the initial phase, we focused more on the problem statements and data cleaning, in order to ensure that we give them the best results out of our analysis.\n",
        "\n",
        "* Percentage of free apps = ~92%\n",
        "* Percentage of apps with no age restrictions = ~82%\n",
        "* Most competitive category: Family\n",
        "* Category with the highest average app installs: Game\n",
        "* Percentage of apps that are top rated = ~80%\n",
        "* Family, Game and Tools are top three categories having 1906, 926 and 829 app count. \n",
        "* There are 20 free apps that have been installed over a billion times.\n",
        "* Category in which the paid apps have the highest average installation fee: Finance\n",
        "* The apps whose size varies with device has the highest number average app installs.\n",
        "* Overall sentiment count of merged dataset in which Positive sentiment count is 64%, Negative 22% and Neutral 13%."
      ],
      "metadata": {
        "id": "Fjb1IsQkh3yE"
      }
    },
    {
      "cell_type": "markdown",
      "source": [
        "### ***Hurrah! You have successfully completed your EDA Capstone Project !!!***"
      ],
      "metadata": {
        "id": "gIfDvo9L0UH2"
      }
    }
  ]
}